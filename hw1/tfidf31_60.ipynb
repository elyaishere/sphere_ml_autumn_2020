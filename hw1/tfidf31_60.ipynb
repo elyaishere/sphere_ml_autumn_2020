{
  "nbformat": 4,
  "nbformat_minor": 0,
  "metadata": {
    "colab": {
      "name": "tfidf31_60.ipynb",
      "provenance": []
    },
    "kernelspec": {
      "name": "python3",
      "display_name": "Python 3"
    },
    "accelerator": "GPU"
  },
  "cells": [
    {
      "cell_type": "code",
      "metadata": {
        "id": "IwLV8mlKFO42",
        "outputId": "6332e268-d63b-49ec-9a33-59155b0d58c2",
        "colab": {
          "base_uri": "https://localhost:8080/",
          "height": 826
        }
      },
      "source": [
        "%%time\n",
        "\n",
        "neighbors, best_score = best_k(X, target, metric='cosine')\n",
        "print(neighbors, best_score)"
      ],
      "execution_count": null,
      "outputs": [
        {
          "output_type": "stream",
          "text": [
            "Testing 31 neighbors\n",
            "Testing 32 neighbors\n",
            "Testing 33 neighbors\n",
            "Testing 34 neighbors\n",
            "Testing 35 neighbors\n",
            "Testing 36 neighbors\n",
            "Testing 37 neighbors\n",
            "Testing 38 neighbors\n",
            "Testing 39 neighbors\n",
            "Testing 40 neighbors\n",
            "Testing 41 neighbors\n",
            "Testing 42 neighbors\n",
            "Testing 43 neighbors\n",
            "Testing 44 neighbors\n",
            "Testing 45 neighbors\n",
            "Testing 46 neighbors\n",
            "Testing 47 neighbors\n",
            "Testing 48 neighbors\n",
            "Testing 49 neighbors\n",
            "Testing 50 neighbors\n",
            "Testing 51 neighbors\n",
            "Testing 52 neighbors\n",
            "Testing 53 neighbors\n",
            "Testing 54 neighbors\n",
            "Testing 55 neighbors\n",
            "Testing 56 neighbors\n",
            "Testing 57 neighbors\n",
            "Testing 58 neighbors\n",
            "Testing 59 neighbors\n",
            "Testing 60 neighbors\n",
            "56 0.6529081306343485\n",
            "CPU times: user 6h 37min 41s, sys: 1.7 s, total: 6h 37min 42s\n",
            "Wall time: 6h 37min 47s\n"
          ],
          "name": "stdout"
        },
        {
          "output_type": "display_data",
          "data": {
            "image/png": "[encoded data removed]",
            "text/plain": [
              "<Figure size 432x288 with 1 Axes>"
            ]
          },
          "metadata": {
            "tags": [],
            "needs_background": "light"
          }
        }
      ]
    },
    {
      "cell_type": "code",
      "metadata": {
        "id": "zuh9GzWWFf1I",
        "outputId": "0c158bd6-fe36-4ae2-a32c-9d6cfd34cbdb",
        "colab": {
          "base_uri": "https://localhost:8080/",
          "height": 34
        }
      },
      "source": [
        "neighbors, best_score"
      ],
      "execution_count": null,
      "outputs": [
        {
          "output_type": "execute_result",
          "data": {
            "text/plain": [
              "(56, 0.6529081306343485)"
            ]
          },
          "metadata": {
            "tags": []
          },
          "execution_count": 15
        }
      ]
    }
  ]
}