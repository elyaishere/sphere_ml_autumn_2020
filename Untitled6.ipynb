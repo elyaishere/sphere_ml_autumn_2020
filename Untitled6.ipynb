{
  "nbformat": 4,
  "nbformat_minor": 0,
  "metadata": {
    "colab": {
      "name": "Untitled6.ipynb",
      "provenance": []
    },
    "kernelspec": {
      "name": "python3",
      "display_name": "Python 3"
    }
  },
  "cells": [
    {
      "cell_type": "code",
      "metadata": {
        "id": "7WCQ755fBnXf"
      },
      "source": [
        "def get_threshold(feature, y):\n",
        "    best_thr = None\n",
        "    x = zip(feature, y)\n",
        "    x = sorted(z, key=lambda tup: tup[0])\n",
        "    a1 = np.sum(y)\n",
        "    b1 = np.dot(y, y.T)\n",
        "    k1 = len(y)\n",
        "    a2 = 0\n",
        "    b2 = 0\n",
        "    k2 = 0\n",
        "    for i in range(len(y)):\n",
        "      c1 = b1 - a1 ** 2 / k1\n",
        "      c2 = b2 - a2 ** 2 / k2\n",
        "      c = c1 + c2\n",
        "      if not best_thr or c < best_thr:\n",
        "        best_thr = c\n",
        "\n",
        "    # YOUR CODE HERE\n",
        "    return best_thr\n",
        "\n",
        "\n",
        "def train_stump(X, y):\n",
        "    best_f = None\n",
        "    best_thr = None\n",
        "    best_error = float('inf')\n",
        "    left_mean, right_mean = None, None\n",
        "    for j in X.shape[1]:\n",
        "        f_score, f_thr = get_threshold(X[:, j], y)\n",
        "        if f_score < best_error:\n",
        "            best_error = f_score\n",
        "            best_f = j\n",
        "            best_thr = f_thr\n",
        "    return best_f, best_thr, left_mean, right_mean"
      ],
      "execution_count": 1,
      "outputs": []
    },
    {
      "cell_type": "code",
      "metadata": {
        "id": "XQTgLoBKBqFz"
      },
      "source": [
        "from sklearn.datasets import load_boston\n",
        "X, y = load_boston(return_X_y=True)"
      ],
      "execution_count": 2,
      "outputs": []
    },
    {
      "cell_type": "code",
      "metadata": {
        "colab": {
          "base_uri": "https://localhost:8080/"
        },
        "id": "ycLqLH83BuKY",
        "outputId": "761b05d9-b916-49ca-96c2-5c0115c3e383"
      },
      "source": [
        "from sklearn.tree import DecisionTreeRegressor\n",
        "from sklearn.metrics import mean_squared_error\n",
        "regressor = DecisionTreeRegressor(random_state=0).fit(X, y)\n",
        "print(mean_squared_error(y, regressor.predict(X)))\n",
        "regressor_stump = DecisionTreeRegressor(random_state=0, max_depth=1).fit(X, y)\n",
        "print(mean_squared_error(y, regressor_stump.predict(X)))"
      ],
      "execution_count": 3,
      "outputs": [
        {
          "output_type": "stream",
          "text": [
            "0.0\n",
            "46.19909167710848\n"
          ],
          "name": "stdout"
        }
      ]
    }
  ]
}