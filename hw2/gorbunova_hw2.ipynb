{
 "cells": [
  {
   "cell_type": "markdown",
   "metadata": {
    "id": "M0eu6w-NRlxI"
   },
   "source": [
    "# Алгоритмы интеллектуальной обработки больших объемов данных\n",
    "## Домашнее задание №2: Линейные модели\n"
   ]
  },
  {
   "cell_type": "markdown",
   "metadata": {
    "id": "Tx1ouLcsRlxM"
   },
   "source": [
    "###### <hr\\>\n",
    "**Общая информация**\n",
    "\n",
    "**Срок сдачи:** 09 ноября 18:00 Сдача **очная** на онлайн занятии. <br\\>\n",
    "\n",
    "\n",
    "Используйте данный Ipython Notebook при оформлении домашнего задания.\n",
    "\n",
    "Присылать ДЗ необходимо в виде ссылки на свой github репозиторий на почту ml1.sphere@mail.ru с указанием темы в следующем формате:\n",
    "\n",
    "[ML0920, Задание 2] Фамилия Имя.\n",
    "\n",
    "\n",
    "\n",
    "**Штрафные баллы:**\n",
    "\n",
    "1. Невыполнение PEP8 -1 балл\n",
    "2. Отсутствие фамилии в имени скрипта (скрипт должен называться по аналогии со stroykova_hw2.ipynb) -1 балл\n",
    "3. Все строчки должны быть выполнены. Нужно, чтобы output команды можно было увидеть уже в git'е. В противном случае -1 балл\n",
    "4. При оформлении ДЗ нужно пользоваться данным файлом в качестве шаблона. Не нужно удалять и видоизменять написанный код и текст, если явно не указана такая возможность. В противном случае -1 балл\n",
    "<hr\\>"
   ]
  },
  {
   "cell_type": "code",
   "execution_count": 2,
   "metadata": {
    "id": "WbS163srRlxO"
   },
   "outputs": [],
   "source": [
    "import pandas as pd\n",
    "import numpy as np\n",
    "import matplotlib.pyplot as plt\n",
    "\n",
    "%matplotlib inline\n",
    "\n",
    "plt.style.use('ggplot')\n",
    "plt.rcParams['figure.figsize'] = (12,5)"
   ]
  },
  {
   "cell_type": "markdown",
   "metadata": {
    "id": "H-nWmsnRRlxb"
   },
   "source": [
    "Здравствуйте, уважаемые студенты! \n",
    "\n",
    "В этом задании мы будем реализовать линейные модели. Необходимо реализовать линейную и логистическую регрессии с L2 регуляризацией"
   ]
  },
  {
   "cell_type": "markdown",
   "metadata": {
    "id": "yNgfHXc0Rlxc"
   },
   "source": [
    "# Теоретическое введение\n",
    "\n"
   ]
  },
  {
   "cell_type": "markdown",
   "metadata": {
    "id": "jIS4BK0dRlxe"
   },
   "source": [
    "Линейная регрессия решает задачу регрессии и оптимизирует функцию потерь MSE \n",
    "\n",
    "$$L(w) =  \\frac{1}{N}\\left[\\sum_i (y_i - a_i) ^ 2 \\right], $$ где $y_i$ $-$ целевая функция,  $a_i = a(x_i) =  \\langle\\,x_i,w\\rangle ,$ $-$ предсказание алгоритма на объекте $x_i$, $w$ $-$ вектор весов (размерности $D$), $x_i$ $-$ вектор признаков (такой же размерности $D$).\n",
    "\n",
    "Не забываем, что здесь и далее  мы считаем, что в $x_i$ есть тождественный вектор единиц, ему соответствует вес $w_0$.\n"
   ]
  },
  {
   "cell_type": "markdown",
   "metadata": {
    "id": "dEgRT3jGRlxg"
   },
   "source": [
    "Логистическая регрессия является линейным классификатором, который оптимизирует так называемый функционал log loss:"
   ]
  },
  {
   "cell_type": "markdown",
   "metadata": {
    "id": "m5fYBSL8Rlxh"
   },
   "source": [
    "$$L(w) = - \\frac{1}{N}\\left[\\sum_i y_i \\log a_i + ( 1 - y_i) \\log (1 - a_i) \\right],$$\n",
    "где  $y_i  \\in \\{0,1\\}$ $-$ метка класса, $a_i$ $-$ предсказание алгоритма на объекте $x_i$. Модель пытается предсказать апостериорую вероятность объекта принадлежать к классу \"1\":\n",
    "$$ p(y_i = 1 | x_i) = a(x_i) =  \\sigma( \\langle\\,x_i,w\\rangle ),$$\n",
    "$w$ $-$ вектор весов (размерности $D$), $x_i$ $-$ вектор признаков (такой же размерности $D$).\n",
    "\n",
    "Функция $\\sigma(x)$ $-$ нелинейная функция, пероводящее скалярное произведение объекта на веса в число $\\in (0,1)$ (мы же моделируем вероятность все-таки!)\n",
    "\n",
    "$$\\sigma(x) = \\frac{1}{1 + \\exp(-x)}$$\n",
    "\n",
    "Если внимательно посмотреть на функцию потерь, то можно заметить, что в зависимости от правильного ответа алгоритм штрафуется или функцией $-\\log a_i$, или функцией $-\\log (1 - a_i)$.\n",
    "\n"
   ]
  },
  {
   "cell_type": "markdown",
   "metadata": {
    "id": "Y37ocVK6Rlxi"
   },
   "source": [
    "Часто для решения проблем, которые так или иначе связаны с проблемой переобучения, в функционал качества добавляют слагаемое, которое называют ***регуляризацией***. Итоговый функционал для линейной регрессии тогда принимает вид:\n",
    "\n",
    "$$L(w) =  \\frac{1}{N}\\left[\\sum_i (y_i - a_i) ^ 2 \\right] + \\frac{1}{C}R(w) $$\n",
    "\n",
    "Для логистической: \n",
    "$$L(w) = - \\frac{1}{N}\\left[\\sum_i y_i \\log a_i + ( 1 - y_i) \\log (1 - a_i) \\right] +  \\frac{1}{C}R(w)$$\n",
    "\n",
    "Самое понятие регуляризации введено основателем ВМК академиком Тихоновым https://ru.wikipedia.org/wiki/Метод_регуляризации_Тихонова\n",
    "\n",
    "Идейно методика регуляризации заключается в следующем $-$ мы рассматриваем некорректно поставленную задачу (что это такое можно найти в интернете), для того чтобы сузить набор различных вариантов (лучшие из которых будут являться переобучением ) мы вводим дополнительные ограничения на множество искомых решений. На лекции Вы уже рассмотрели два варианта регуляризации.\n",
    "\n",
    "$L1$ регуляризация:\n",
    "$$R(w) = \\sum_{j=1}^{D}|w_j|$$\n",
    "$L2$ регуляризация:\n",
    "$$R(w) =  \\sum_{j=1}^{D}w_j^2$$\n",
    "\n",
    "С их помощью мы ограничиваем модель в  возможности выбора каких угодно весов минимизирующих наш лосс, модель уже не сможет подстроиться под данные как ей угодно. \n",
    "\n",
    "Вам нужно добавить соотвествущую Вашему варианту $L2$ регуляризацию.\n",
    "\n",
    "И так, мы поняли, какую функцию ошибки будем минимизировать, разобрались, как получить предсказания по объекту и обученным весам. Осталось разобраться, как получить оптимальные веса. Для этого нужно выбрать какой-то метод оптимизации.\n",
    "\n"
   ]
  },
  {
   "cell_type": "markdown",
   "metadata": {
    "id": "ax_zEeAURlxj"
   },
   "source": [
    "Градиентный спуск является самым популярным алгоритмом обучения линейных моделей. В этом задании Вам предложат реализовать стохастический градиентный спуск или  мини-батч градиентный спуск (мини-батч на русский язык довольно сложно перевести, многие переводят это как \"пакетный\", но мне не кажется этот перевод удачным). Далее нам потребуется определение **эпохи**.\n",
    "Эпохой в SGD и MB-GD называется один проход по **всем** объектам в обучающей выборки.\n",
    "* В SGD градиент расчитывается по одному случайному объекту. Сам алгоритм выглядит примерно так:\n",
    "        1) Перемешать выборку\n",
    "        2) Посчитать градиент функции потерь на одном объекте (далее один объект тоже будем называть батчем)\n",
    "        3) Сделать шаг спуска\n",
    "        4) Повторять 2) и 3) пока не пройдет максимальное число эпох.\n",
    "* В Mini Batch SGD - по подвыборке объектов. Сам алгоритм выглядит примерно так::\n",
    "        1) Перемешать выборку, выбрать размер мини-батча (от 1 до размера выборки)\n",
    "        2) Почитать градиент функции потерь по мини-батчу (не забыть поделить на  число объектов в мини-батче)\n",
    "        3) Сделать шаг спуска\n",
    "        4) Повторять 2) и 3) пока не пройдет максимальное число эпох.\n",
    "* Для отладки алгоритма реализуйте возможность  вывода средней ошибки на обучении модели по объектам (мини-батчам). После шага градиентного спуска посчитайте значение ошибки на объекте (или мини-батче), а затем усредните, например, по ста шагам. Если обучение проходит корректно, то мы должны увидеть, что каждые 100 шагов функция потерь уменьшается. \n",
    "* Правило останова - максимальное количество эпох\n",
    "    \n"
   ]
  },
  {
   "cell_type": "markdown",
   "metadata": {
    "id": "XEKPo1cKRlxl"
   },
   "source": [
    "# Теоретические вопросы (2 балла)\n",
    "В этой части Вам будут предложены теоретичские вопросы и задачи по теме. Вы, конечно, можете списать их у своего товарища или найти решение в интернете, но учтите, что они обязательно войдут в теоретический коллоквиум. Лучше разобраться в теме сейчас и успешно ответить на коллоквиуме, чем списать, не разобравшись в материале, и быть терзаемым совестью. \n",
    "\n",
    "\n",
    "Формулы надо оформлять в формате **LaTeX**."
   ]
  },
  {
   "cell_type": "markdown",
   "metadata": {
    "id": "8pxAgm3ZRlxn"
   },
   "source": [
    "Задача 1. Градиент для линейной регрессии.\n",
    "* Выпишите формулу обновления весов для линейной регрессии с L2 регуляризацией для мини-батч градиентого спуска размера $n$:\n",
    "\n",
    "$$ w_{new} = w_{old} - ... $$\n",
    "\n",
    " Отнеситесь к этому пункту максимально серьезно, это Вам нужно будет реализовать в задании.\n",
    " \n",
    "Проанализруйте итоговую формулу градиента - как  интуитивно можно  описать, чему равен градиент?"
   ]
  },
  {
   "cell_type": "markdown",
   "metadata": {
    "id": "3zfPUf-dRlxn"
   },
   "source": [
    "***Решение***\n",
    "\n",
    "$$L(w) =  \\frac{1}{N}\\left[\\sum_{i=1}^{N} (a_i - y_i) ^ 2 \\right] + \\frac{1}{C} \\sum_{j=1}^{D}w_j^2 $$\n",
    "\n",
    "$$a_i = a(x_i) =  \\langle\\,x_i,w\\rangle$$\n",
    "\n",
    "$$L(w) =  \\frac{1}{N}\\left[\\sum_{i=1}^{N} (\\langle\\,x_i,w\\rangle - y_i) ^ 2 \\right] + \\frac{1}{C} \\sum_{j=1}^{D}w_j^2 $$\n",
    "\n",
    "$$L(w) =  \\frac{1}{N}(\\langle\\,X,w\\rangle - y)^{T}(\\langle\\,X,w\\rangle - y) + \\frac{1}{C} w^{T}w $$\n",
    "\n",
    "$$ \\nabla_w{L(w)}  = \\frac{ \\nabla_w }{N}(w^{T}X^{T}X w - y^{T}X w - w^{T}X^{T}y + y^{T}y) + \\frac{2}{C} w$$\n",
    "\n",
    "$$ \\nabla_w{L(w)}  = \\frac{2X^{T}X w - 2X^{T}y }{N}  + \\frac{2}{C} w$$\n",
    "\n",
    "$$ w_{new} = w_{old} - \\alpha\\nabla_w{L(w_{old})} $$\n",
    "\n",
    "$$ w_{new} = w_{old} - \\alpha\\left( \\frac{2X^{T}(X w_{old} - y)}{N} + \\frac{2}{C} w_{old}\\right) $$\n",
    "\n",
    "*Для мини-батч размера n:*\n",
    "\n",
    "$$ w_{new} = w_{old}\\left (1 -  \\frac{2\\alpha}{C}\\right) -\\frac{2 \\alpha X^{T}(X w_{old} - y)}{n}$$\n",
    "*X - матрица признаков с n строками*"
   ]
  },
  {
   "cell_type": "markdown",
   "metadata": {
    "id": "kuFI2VxoRlxp"
   },
   "source": [
    "Задача 2. Градиент для логистической регрессии.\n",
    "* Выпишите формулу обновления весов для логистической регрессии с L2 регуляризацией  для мини-батч градиентого спуска размера $n$:\n",
    "\n",
    "$$ w_{new} = w_{old} - ... $$\n",
    "\n",
    " Отнеситесь к этому пункту максимально серьезно, это Вам нужно будет реализовать в задании.\n",
    " \n",
    "Проанализруйте итоговую формулу градиента - как  интуитивно можно  описать, чему равен градиент? Как соотносится этот градиент с градиентом, возникающий в задаче линейной регрессии?\n",
    "\n",
    "Подсказка: Вам градиент, которой получается если “в лоб” продифференцировать,  надо немного преобразовать.\n",
    "Надо подставить, что $1 - \\sigma(w,x) $ это  $1 - a(x_i)$, а  $-\\sigma(w,x)$ это $0 - a(x_i)$.  Тогда получится свести к одной красивой формуле с линейной регрессией, которую программировать будет намного проще."
   ]
  },
  {
   "cell_type": "markdown",
   "metadata": {
    "id": "k4KHhUPpRlxq"
   },
   "source": [
    "***Решение***\n",
    "\n",
    "$$L(w) =  - \\frac{1}{N}\\left[\\sum_i^N y_i \\log a_i + ( 1 - y_i) \\log (1 - a_i) \\right] + \\frac{1}{C} \\sum_{j=1}^{D}w_j^2 $$\n",
    "\n",
    "$$a_i = a(x_i) =  \\frac{1}{1 + \\exp(-\\langle\\,x_i,w\\rangle)}$$\n",
    "\n",
    "$$ \\nabla_w{L(w)}=-\\frac{1}{N}\\left[\\sum_i^{N} \\frac{y_i}{a_i}\\frac{\\partial a_i }{\\partial w}-\\frac{1-y_i}{1-a_i}\\frac{\\partial a_i }{\\partial w}\\right] +\\frac{2}{C}w $$\n",
    "\n",
    "$$ \\nabla_w{L(w)}=\\frac{1}{N}\\left[\\sum_i^{N} (y_i - a_i)X_{i}^{T}\\right] +\\frac{2}{C}w $$\n",
    "\n",
    "$$ w_{new} = w_{old} - \\alpha\\nabla_w{L(w_{old})} $$\n",
    "\n",
    "*Для мини-батч размера n:*\n",
    "\n",
    "$$ \\forall j_1, ..., j_n  $$\n",
    "\n",
    "$$ w_{new}  = w_{old} - \\alpha\\left[\\frac{1}{n}\\sum_{i=1}^{n}(y_{j_i} - a_{j_i})X_{j_i}^{T} + \\frac{2}{C}w_{old} \\right]$$\n",
    "*$X_{j_i}$ - $j_i$-я строка  матрицы признаков*"
   ]
  },
  {
   "cell_type": "markdown",
   "metadata": {
    "id": "S59ASMVyRlxr"
   },
   "source": [
    "Задача 3. Точное решение линейной регрессии\n",
    "\n",
    "На лекции было показано, что точное решение линейной регрессии имеет вид $w = (X^TX)^{-1}X^TY $. \n",
    "* Покажите, что это действительно является точкой минимума в случае, если матрица X имеет строк не меньше, чем столбцов и имеет полный ранг. Подсказка: посчитайте Гессиан и покажите, что в этом случае он положительно определен. \n",
    "* Выпишите точное решение для модели с $L2$ регуляризацией. Как L2 регуляризация помогает с точным решением где матрица X имеет линейно зависимые признаки?"
   ]
  },
  {
   "cell_type": "markdown",
   "metadata": {
    "id": "jfRJ_f2zRlxs"
   },
   "source": [
    "***Решение***\n",
    "\n",
    "$$ \\nabla_w^2{L(w)}  = \\frac{2X^{T}X}{N}$$\n",
    "\n",
    "*так как для ненулевого z и полной матрицы X*\n",
    "$$z^{T}(X^{T}X)z = (Xz)^{T}(Xz) = ||Xz||^{2} > 0$$\n",
    "Поэтому Гессиан положительно определён.\n",
    "\n",
    "Точное решение с регуляризацией:\n",
    "$$ \\nabla_w{L(w)}  = \\frac{2X^{T}X w - 2X^{T}y }{N}  + \\frac{2}{C}w = 0$$\n",
    "\n",
    "$$ w  = \\frac{X^{T}y}{X^{T}X + \\frac{N}{C}I} $$\n",
    "\n",
    "*Если матрица X имеет ЛЗ признаки, то*\n",
    "$$X^{T}X $$\n",
    "*не имеет обратной. С регуляризацией можно подобрать С так, что обратная матрица будет существовать.*"
   ]
  },
  {
   "cell_type": "markdown",
   "metadata": {
    "id": "yODSkzo_Rlxu"
   },
   "source": [
    "Задача 4.  Предсказываем вероятности.\n",
    "\n",
    "Когда говорят о логистической регрессии, произносят фразу, что она \"предсказывает вероятности положительного класса\". Давайте разберемся, что же за этим стоит. Посчитаем математическое ожидание функции потерь и проверим, что предсказание алгоритма, оптимизирующее это мат. ожидание, будет являться вероятностью положительного класса. \n",
    "\n",
    "И так, функция потерь на объекте $x_i$, который имеет метку $y_i \\in \\{0,1\\}$  для предсказания $a(x_i)$ равна:\n",
    "$$L(y_i, b) =-[y_i == 1] \\log a(x_i)  - [y_i == 0] \\log(1 - a(x_i)) $$\n",
    "\n",
    "Где $[]$ означает индикатор $-$ он равен единице, если значение внутри него истинно, иначе он равен нулю. Тогда мат. ожидание при условии конкретного $x_i$  по определение мат. ожидания дискретной случайной величины:\n",
    "$$E(L | x_i) = -p(y_i = 1 |x_i ) \\log a(x_i)  - p(y_i = 0 | x_i) \\log( 1 - a(x_i))$$\n",
    "* Докажите, что значение $a(x_i)$, минимизирующее данное мат. ожидание, в точности равно $p(y_i = 1 |x_i)$, то есть равно вероятности положительного класса.\n",
    "\n",
    "Подсказка: возможно, придется воспользоваться, что  $p(y_i = 1 | x_i) + p(y_i = 0 | x_i) = 1$"
   ]
  },
  {
   "cell_type": "markdown",
   "metadata": {
    "id": "e0MUOR7HRlxu"
   },
   "source": [
    "***Решение***\n",
    "\n",
    "$$\\frac{\\partial E(L | x_i)}{\\partial a} = -\\frac{p(y_i = 1 |x_i )}{a(x_i)}  +\\frac {p(y_i = 0 | x_i)} { 1 - a(x_i)} = 0$$\n",
    "\n",
    "$$a(x_i) = p(y_i = 1 |x_i )$$\n",
    "\n",
    "$$\\frac{\\partial^2 E(L | x_i)}{\\partial a^2} = \\frac{p(y_i = 1 |x_i )}{a(x_i)^2}  +\\frac {p(y_i = 0 | x_i)} {( 1 - a(x_i))^2} > 0$$"
   ]
  },
  {
   "cell_type": "markdown",
   "metadata": {
    "id": "O61hbm9fRlxv"
   },
   "source": [
    "Задача 5.  Смысл регуляризации.\n",
    "Нужно ли в L1/L2 регуляризации использовать свободный член $w_0$ (который не умножается ни на какой признак)?\n",
    "\n",
    "Подсказка: подумайте, для чего мы вводим $w_0$"
   ]
  },
  {
   "cell_type": "markdown",
   "metadata": {
    "id": "IjfRiEu6Rlxw"
   },
   "source": [
    "***Решение***\n",
    "\n",
    "***Нет.***\n",
    "Мы вводим регуляризацию для борьбы с переобучением. Если вес $w_i$ будет очень большим, то при малых изменениях $x_i$ выход будет сильно меняться. Поэтому имеет смысл значения весов ограничивать.\n",
    "Член $w_0$ вводится, чтобы не выписывать отдельно свободное слагаемое (сдвиг). Он показывает, что выдаёт модель при обнулении всех признаков. На переобучение никак не влияет, потому что у всех $x$ присутствует (не входит в те самые \"малые изменения\" :) ). Возможно, что пытаться регуляризовать его со всеми - плохая идея."
   ]
  },
  {
   "cell_type": "markdown",
   "metadata": {
    "id": "dFlUCEqhRlxx"
   },
   "source": [
    "#  Реализация линейной модели (4 балла)"
   ]
  },
  {
   "cell_type": "markdown",
   "metadata": {
    "id": "8qEB6Q2SRlx0"
   },
   "source": [
    "## Зачем нужны батчи?\n"
   ]
  },
  {
   "cell_type": "markdown",
   "metadata": {
    "id": "VhYgTum6Rlx2"
   },
   "source": [
    "Как Вы могли заметить из теоретического введения, что в случае SGD, что в случа mini-batch GD,  на каждой итерации обновление весов  происходит только по небольшой части данных (1 пример в случае SGD, batch примеров в случае mini-batch). То есть для каждой итерации нам *** не нужна вся выборка***. Мы можем просто итерироваться по выборке, беря батч нужного размера (далее 1 объект тоже будем называть батчом).\n",
    "\n",
    "Легко заметить, что в этом случае нам не нужно загружать все данные в оперативную память, достаточно просто считать батч с диска, обновить веса, считать диска другой батч и так далее. В целях упрощения домашней работы, прямо с диска  мы считывать не будем, будем работать с обычными numpy array. \n",
    "\n",
    "\n",
    "\n"
   ]
  },
  {
   "cell_type": "markdown",
   "metadata": {
    "id": "BJ08FmLpRlx3"
   },
   "source": [
    "## Немножко про генераторы в Python\n",
    "\n"
   ]
  },
  {
   "cell_type": "markdown",
   "metadata": {
    "id": "5JdcR0wxRlx5"
   },
   "source": [
    "Идея считывания данных кусками удачно ложится на так называемые ***генераторы*** из языка Python. В данной работе Вам предлагается не только разобраться с логистической регрессией, но  и познакомиться с таким важным элементом языка.  При желании Вы можете убрать весь код, связанный с генераторами, и реализовать логистическую регрессию и без них, ***штрафоваться это никак не будет***. Главное, чтобы сама модель была реализована правильно, и все пункты были выполнены. \n",
    "\n",
    "Подробнее можно почитать вот тут https://anandology.com/python-practice-book/iterators.html\n"
   ]
  },
  {
   "cell_type": "markdown",
   "metadata": {
    "id": "tg6530GcRlx5"
   },
   "source": [
    "К генератору стоит относиться просто как к функции, которая порождает не один объект, а целую последовательность объектов. Новое значение из последовательности генерируется с помощью ключевого слова ***yield***. Ниже Вы можете насладиться  генератором чисел Фибоначчи."
   ]
  },
  {
   "cell_type": "code",
   "execution_count": 2,
   "metadata": {
    "id": "me8bNDYXRlx7"
   },
   "outputs": [],
   "source": [
    "def fib(max_iter=4):\n",
    "    a, b = 0, 1\n",
    "    iter_num = 0\n",
    "    while 1:\n",
    "        yield a\n",
    "        a, b = b, a + b\n",
    "        iter_num += 1\n",
    "        if iter_num == max_iter:\n",
    "            break"
   ]
  },
  {
   "cell_type": "markdown",
   "metadata": {
    "id": "7D6_r9oGRlx_"
   },
   "source": [
    "Вот так можно сгенерировать последовательность Фибоначчи. \n",
    "\n",
    "Заметьте, что к генераторам можно применять некоторые стандартные функции из Python, например enumerate."
   ]
  },
  {
   "cell_type": "code",
   "execution_count": 3,
   "metadata": {
    "colab": {
     "base_uri": "https://localhost:8080/"
    },
    "id": "paZ4UhLcRlyA",
    "outputId": "788f7b23-df4c-41e2-b85f-c583c2b7ecb0"
   },
   "outputs": [
    {
     "name": "stdout",
     "output_type": "stream",
     "text": [
      "Fib num: 0 fib values: 0\n",
      "Fib num: 1 fib values: 1\n",
      "Fib num: 2 fib values: 1\n",
      "Fib num: 3 fib values: 2\n"
     ]
    }
   ],
   "source": [
    "new_generator = fib()\n",
    "for j, fib_val in enumerate(new_generator):\n",
    "    print (\"Fib num: \" + str(j) + \" fib values: \" + str(fib_val))"
   ]
  },
  {
   "cell_type": "markdown",
   "metadata": {
    "id": "UGKt0EY7RlyH"
   },
   "source": [
    "Пересоздавая объект, можно сколько угодно раз генерировать заново последовательность. "
   ]
  },
  {
   "cell_type": "code",
   "execution_count": 4,
   "metadata": {
    "colab": {
     "base_uri": "https://localhost:8080/"
    },
    "id": "0dZgPYirRlyH",
    "outputId": "e42e5f25-663d-449b-a536-3b73ee034194"
   },
   "outputs": [
    {
     "name": "stdout",
     "output_type": "stream",
     "text": [
      "Fib num: 0 fib values: 0\n",
      "Fib num: 1 fib values: 1\n",
      "Fib num: 2 fib values: 1\n",
      "Fib num: 3 fib values: 2\n",
      "Fib num: 0 fib values: 0\n",
      "Fib num: 1 fib values: 1\n",
      "Fib num: 2 fib values: 1\n",
      "Fib num: 3 fib values: 2\n",
      "Fib num: 0 fib values: 0\n",
      "Fib num: 1 fib values: 1\n",
      "Fib num: 2 fib values: 1\n",
      "Fib num: 3 fib values: 2\n"
     ]
    }
   ],
   "source": [
    "for i in range(0, 3):\n",
    "    new_generator = fib()\n",
    "    for j, fib_val in enumerate(new_generator):\n",
    "        print (\"Fib num: \" + str(j) + \" fib values: \" + str(fib_val))"
   ]
  },
  {
   "cell_type": "markdown",
   "metadata": {
    "id": "dIp3SCn5RlyN"
   },
   "source": [
    "А вот так уже нельзя."
   ]
  },
  {
   "cell_type": "code",
   "execution_count": 5,
   "metadata": {
    "colab": {
     "base_uri": "https://localhost:8080/"
    },
    "id": "-SJgeD16RlyO",
    "outputId": "0cb2a322-3aaf-490c-f4f3-b295d80b477b"
   },
   "outputs": [
    {
     "name": "stdout",
     "output_type": "stream",
     "text": [
      "Fib num: 0 fib values: 0\n",
      "Fib num: 1 fib values: 1\n",
      "Fib num: 2 fib values: 1\n",
      "Fib num: 3 fib values: 2\n"
     ]
    }
   ],
   "source": [
    "new_generator = fib()\n",
    "for i in range(0, 3):\n",
    "    for j, fib_val in enumerate(new_generator):\n",
    "        print (\"Fib num: \" + str(j) + \" fib values: \" + str(fib_val))"
   ]
  },
  {
   "cell_type": "markdown",
   "metadata": {
    "id": "82jW7A0nRlyT"
   },
   "source": [
    "Концепция крайне удобная для обучения  моделей $-$ у Вас есть некий источник данных, который Вам выдает их кусками, и Вам совершенно все равно откуда он их берет. Под ним может скрывать как массив в оперативной памяти, как файл на жестком диске, так и SQL база данных. Вы сами данные никуда не сохраняете, оперативную память экономите."
   ]
  },
  {
   "cell_type": "markdown",
   "metadata": {
    "id": "QCD5GDC0RlyU"
   },
   "source": [
    "Если Вам понравилась идея с генераторами, то Вы можете реализовать свой, используя прототип batch_generator. В нем Вам нужно выдавать батчи признаков и ответов для каждой новой итерации спуска. Если не понравилась идея, то можете реализовывать SGD или mini-batch GD без генераторов."
   ]
  },
  {
   "cell_type": "code",
   "execution_count": 4,
   "metadata": {
    "id": "SHGmHlCcRlyV"
   },
   "outputs": [],
   "source": [
    "from sklearn.utils import shuffle as shffl"
   ]
  },
  {
   "cell_type": "code",
   "execution_count": 3,
   "metadata": {
    "id": "WMWkfMkCRlyZ"
   },
   "outputs": [],
   "source": [
    "def batch_generator(X, y, shuffle=True, batch_size=1):\n",
    "    \"\"\"\n",
    "    Гератор новых батчей для обучения\n",
    "    X          - матрица объекты-признаки\n",
    "    y_batch    - вектор ответов\n",
    "    shuffle    - нужно ли случайно перемешивать выборку\n",
    "    batch_size - размер батча ( 1 это SGD, > 1 mini-batch GD)\n",
    "    Генерирует подвыборку для итерации спуска (X_batch, y_batch)\n",
    "    \"\"\"\n",
    "    if shuffle:\n",
    "        X, y = shffl(X, y, random_state=0)\n",
    "    for i in range(X.shape[0] // batch_size):\n",
    "        X_batch = X[i * batch_size : (i+1) * batch_size, :]\n",
    "        y_batch = y[i * batch_size : (i+1) * batch_size]\n",
    "        yield (X_batch, y_batch)\n",
    "\n",
    "# Теперь можно сделать генератор по данным ()\n",
    "# my_batch_generator = batch_generator(X, y, shuffle=True, batch_size=1):"
   ]
  },
  {
   "cell_type": "code",
   "execution_count": 1,
   "metadata": {
    "id": "9VBylGQYRlyf"
   },
   "outputs": [],
   "source": [
    "#%%pycodestyle\n",
    "\n",
    "def sigmoid(x):\n",
    "    \"\"\"\n",
    "    Вычисляем значение сигмоида.\n",
    "    X - выход линейной модели\n",
    "    \"\"\"\n",
    "    x = np.clip(x, -10, 10) # чтобы 1 не получалась на выходе\n",
    "    sigm_value_x = 1./(1. + np.exp(-x))\n",
    "    return sigm_value_x\n",
    "\n",
    "\n",
    "from sklearn.base import BaseEstimator, ClassifierMixin\n",
    "\n",
    "class MySGDClassifier(BaseEstimator, ClassifierMixin):\n",
    "    \n",
    "    def __init__(self, batch_generator, C=1, alpha=0.01, max_epoch=10,\n",
    "                 model_type='lin_reg', penalty='l2', batch_size=1):\n",
    "        \"\"\"\n",
    "        batch_generator -- функция генератор, которой будем создавать батчи\n",
    "        C - коэф. регуляризации\n",
    "        alpha - скорость спуска\n",
    "        max_epoch - максимальное количество эпох\n",
    "        model_type - тим модели, lin_reg или log_reg\n",
    "        \"\"\"\n",
    "        \n",
    "        self.C = C\n",
    "        self.alpha = alpha\n",
    "        self.max_epoch = max_epoch\n",
    "        self.batch_generator = batch_generator\n",
    "        self.errors_log = {'iter' : [], 'loss' : []}  \n",
    "        self.model_type = model_type\n",
    "        \n",
    "        self.penalty = penalty\n",
    "        self.batch_size = batch_size\n",
    "        \n",
    "    def calc_loss(self, X_batch, y_batch):\n",
    "        \"\"\"\n",
    "        Считаем функцию потерь по батчу \n",
    "        X_batch - матрица объекты-признаки по батчу\n",
    "        y_batch - вектор ответов по батчу\n",
    "        Не забудте тип модели (линейная или логистическая регрессия)!\n",
    "        \"\"\"\n",
    "        if self.penalty == 'l2':\n",
    "            R = np.dot(self.weights[1:], self.weights[1:])\n",
    "            R = R / self.C\n",
    "        elif self.penalty == 'l1':\n",
    "            R = np.sum(list(map(abs, self.weights[1:])))\n",
    "            R = R / self.C\n",
    "        else:\n",
    "            R = 0\n",
    "        \n",
    "        if self.model_type == 'lin_reg':\n",
    "            pred = np.dot(X_batch, self.weights) - y_batch\n",
    "            loss = np.dot(pred, pred)\n",
    "            \n",
    "        else:\n",
    "            pred = np.dot(X_batch, self.weights)\n",
    "            a = sigmoid(pred) # [a1,a2,..,an]\n",
    "            a = np.clip(a, 1e-15, 1 - 1e-15)\n",
    "            loss = - np.sum(y_batch * np.log(a) + (1 - y_batch) * np.log(1 - a))\n",
    "            \n",
    "        loss = loss / X_batch.shape[0] + R\n",
    "        return loss\n",
    "    \n",
    "    def calc_loss_grad(self, X_batch, y_batch):\n",
    "        \"\"\"\n",
    "        Считаем  градиент функции потерь по батчу (то что Вы вывели в задании 1)\n",
    "        X_batch - матрица объекты-признаки по батчу\n",
    "        y_batch - вектор ответов по батчу\n",
    "        Не забудте тип модели (линейная или логистическая регрессия)!\n",
    "        \"\"\"\n",
    "        \n",
    "        if self.penalty == 'l2':\n",
    "            R = 2. * self.weights[1:] # [2w1,1w2,...,2wd]\n",
    "            R = np.hstack(([0], R)) #[0, 2w1, ..., 2wd]\n",
    "            R = R / self.C\n",
    "        elif self.penalty == 'l1':\n",
    "            R = nphstack(([0], np.ones(self.weights.shape[0] - 1))) # [0,1,...1]\n",
    "            R = R / self.C\n",
    "        else:\n",
    "            R = np.zeros(self.weights.shape[0])\n",
    "        \n",
    "        if self.model_type == 'lin_reg':\n",
    "            loss_grad = np.dot(X_batch, self.weights) - y_batch\n",
    "            loss_grad = 2 * np.dot(X_batch.T, loss_grad)\n",
    "            \n",
    "        else:\n",
    "            pred = np.dot(X_batch, self.weights)\n",
    "            a = sigmoid(pred) # [a1, a2, ... , an]\n",
    "            loss_grad = np.dot(X_batch.T, a - y_batch)\n",
    "        \n",
    "        loss_grad = loss_grad / X_batch.shape[0] + R\n",
    "        return loss_grad\n",
    "    \n",
    "    def update_weights(self, new_grad):\n",
    "        \"\"\"\n",
    "        Обновляем вектор весов\n",
    "        new_grad - градиент по батчу\n",
    "        \"\"\"\n",
    "        self.weights = self.weights - self.alpha * new_grad\n",
    "    \n",
    "    def fit(self, X, y):\n",
    "        '''\n",
    "        Обучение модели\n",
    "        X - матрица объекты-признаки\n",
    "        y - вектор ответов\n",
    "        '''\n",
    "        # вставляем фиктивный столбец\n",
    "        X = np.hstack((np.ones((X.shape[0], 1)), X))\n",
    "        # Нужно инициализровать случайно веса\n",
    "        self.weights = np.random.randn(X.shape[1]).astype(np.longdouble) \n",
    "        for n in range(0, self.max_epoch):\n",
    "            new_epoch_generator = self.batch_generator(X, y,\n",
    "                                                       batch_size=self.batch_size)\n",
    "            for batch_num, new_batch in enumerate(new_epoch_generator):\n",
    "                X_batch = new_batch[0]\n",
    "                y_batch = new_batch[1]\n",
    "                batch_grad = self.calc_loss_grad(X_batch, y_batch)\n",
    "                batch_loss = self.calc_loss(X_batch, y_batch)\n",
    "                self.update_weights(batch_grad)\n",
    "                \n",
    "                self.errors_log['iter'].append(batch_num)\n",
    "                self.errors_log['loss'].append(batch_loss)\n",
    "                \n",
    "        return self\n",
    "        \n",
    "    def predict(self, X):\n",
    "        '''\n",
    "        Предсказание класса\n",
    "        X - матрица объекты-признаки\n",
    "        Не забудте тип модели (линейная или логистическая регрессия)!\n",
    "        '''\n",
    "        X = np.hstack((np.ones((X.shape[0], 1)), X))\n",
    "        y_hat = np.dot(X, self.weights)\n",
    "        if self.model_type == 'log_reg':\n",
    "            y_hat = sigmoid(y_hat)\n",
    "        # Желательно здесь использовать матричные операции между X и весами, например, numpy.dot \n",
    "        return y_hat"
   ]
  },
  {
   "cell_type": "markdown",
   "metadata": {
    "id": "Zuai1aBXRlyj"
   },
   "source": [
    "Запустите обе регрессии на синтетических данных. \n",
    "\n",
    "\n",
    "Выведите полученные веса и нарисуйте разделяющую границу между классами (используйте только первых два веса для первых двух признаков X[:,0], X[:,1] для отображения в 2d пространство ).  "
   ]
  },
  {
   "cell_type": "code",
   "execution_count": 5,
   "metadata": {
    "id": "POBcwvyARlyk"
   },
   "outputs": [],
   "source": [
    "def plot_decision_boundary(clf):\n",
    "    w = clf.weights\n",
    "    print('weights: ', w)\n",
    "    x = np.array([-5., 8.])\n",
    "    y = - (x * w[1] + w[0]) / w[2]\n",
    "    return x, y"
   ]
  },
  {
   "cell_type": "code",
   "execution_count": 6,
   "metadata": {
    "colab": {
     "base_uri": "https://localhost:8080/",
     "height": 612
    },
    "id": "D1Fw2QeVRlyo",
    "outputId": "e924caa1-563f-4072-dfb6-a4bc38c9f9ae"
   },
   "outputs": [
    {
     "name": "stdout",
     "output_type": "stream",
     "text": [
      "weights:  [ 0.07260068  0.15705407 -0.09381778]\n"
     ]
    },
    {
     "data": {
      "image/png": "[encoded data removed]",
      "text/plain": [
       "<Figure size 1440x720 with 1 Axes>"
      ]
     },
     "metadata": {},
     "output_type": "display_data"
    }
   ],
   "source": [
    "np.random.seed(0)\n",
    "\n",
    "C1 = np.array([[0., -0.8], [1.5, 0.8]])\n",
    "C2 = np.array([[1., -0.7], [2., 0.7]])\n",
    "gauss1 = np.dot(np.random.randn(200, 2) + np.array([5, 3]), C1)\n",
    "gauss2 = np.dot(np.random.randn(200, 2) + np.array([1.5, 0]), C2)\n",
    "\n",
    "X = np.vstack([gauss1, gauss2])\n",
    "y = np.r_[np.ones(200), np.zeros(200)]\n",
    "\n",
    "# X[:, 0].min(), X[:, 0].max()\n",
    "# X[:, 1].min(), X[:, 1].max()\n",
    "\n",
    "fig, ax = plt.subplots()\n",
    "fig.set_size_inches(20,10)\n",
    "ax.scatter(X[:,0], X[:,1], c=y)\n",
    "\n",
    "clf = MySGDClassifier(batch_generator, model_type='lin_reg')\n",
    "clf.fit(X, y)\n",
    "x_, y_ = plot_decision_boundary(clf)\n",
    "\n",
    "ax.plot(x_, y_)\n",
    "ax.set_xlim(-6., 9.)\n",
    "ax.set_ylim(-6., 3.)\n",
    "plt.show()"
   ]
  },
  {
   "cell_type": "code",
   "execution_count": 7,
   "metadata": {
    "colab": {
     "base_uri": "https://localhost:8080/",
     "height": 612
    },
    "id": "daPAiiuTRlyu",
    "outputId": "fea0cb1c-5870-4894-b11f-779ae96630c4"
   },
   "outputs": [
    {
     "name": "stdout",
     "output_type": "stream",
     "text": [
      "weights:  [-0.76115769  0.27482181 -0.07179158]\n"
     ]
    },
    {
     "data": {
      "image/png": "[encoded data removed]",
      "text/plain": [
       "<Figure size 1440x720 with 1 Axes>"
      ]
     },
     "metadata": {},
     "output_type": "display_data"
    }
   ],
   "source": [
    "np.random.seed(0)\n",
    "\n",
    "C1 = np.array([[0., -0.8], [1.5, 0.8]])\n",
    "C2 = np.array([[1., -0.7], [2., 0.7]])\n",
    "gauss1 = np.dot(np.random.randn(200, 2) + np.array([5, 3]), C1)\n",
    "gauss2 = np.dot(np.random.randn(200, 2) + np.array([1.5, 0]), C2)\n",
    "\n",
    "X = np.vstack([gauss1, gauss2])\n",
    "y = np.r_[np.ones(200), np.zeros(200)]\n",
    "\n",
    "# X[:, 0].min(), X[:, 0].max()\n",
    "# X[:, 1].min(), X[:, 1].max()\n",
    "\n",
    "fig, ax = plt.subplots()\n",
    "fig.set_size_inches(20,10)\n",
    "ax.scatter(X[:,0], X[:,1], c=y)\n",
    "\n",
    "clf = MySGDClassifier(batch_generator, model_type='log_reg')\n",
    "clf.fit(X, y)\n",
    "x_, y_ = plot_decision_boundary(clf)\n",
    "\n",
    "ax.plot(x_, y_)\n",
    "ax.set_xlim(-6., 9.)\n",
    "ax.set_ylim(-6., 3.)\n",
    "plt.show()"
   ]
  },
  {
   "cell_type": "markdown",
   "metadata": {
    "id": "tF45QsczRlyy"
   },
   "source": [
    "Далее будем анализировать Ваш алгоритм. \n",
    "Для этих заданий используйте датасет ниже."
   ]
  },
  {
   "cell_type": "code",
   "execution_count": 8,
   "metadata": {
    "id": "tZZQTuiyRlyz"
   },
   "outputs": [],
   "source": [
    "from sklearn.datasets import make_classification"
   ]
  },
  {
   "cell_type": "code",
   "execution_count": 9,
   "metadata": {
    "id": "dhcWHCHlRly3"
   },
   "outputs": [],
   "source": [
    "X, y = make_classification(n_samples=100000, n_features=10, \n",
    "                           n_informative=4, n_redundant=0, \n",
    "                           random_state=123, class_sep=1.0,\n",
    "                           n_clusters_per_class=1)"
   ]
  },
  {
   "cell_type": "markdown",
   "metadata": {
    "id": "BNgref7_Rly7"
   },
   "source": [
    "Покажите сходимости обеих регрессией на этом датасете: изобразите график  функции потерь, усредненной по $N$ шагам градиентого спуска, для разных `alpha` (размеров шага). Разные `alpha` расположите на одном графике. \n",
    "\n",
    "$N$ можно брать 10, 50, 100 и т.д. "
   ]
  },
  {
   "cell_type": "code",
   "execution_count": 12,
   "metadata": {
    "id": "8z6H21Pqku87"
   },
   "outputs": [],
   "source": [
    "scaler = MinMaxScaler()\n",
    "X = scaler.fit_transform(X)"
   ]
  },
  {
   "cell_type": "code",
   "execution_count": 13,
   "metadata": {
    "colab": {
     "base_uri": "https://localhost:8080/",
     "height": 445
    },
    "id": "UwqDETVoRly8",
    "outputId": "dcfa9c6c-6f5d-4873-970c-57b67bb26d30"
   },
   "outputs": [
    {
     "data": {
      "image/png": "[encoded data removed]",
      "text/plain": [
       "<Figure size 1440x504 with 2 Axes>"
      ]
     },
     "metadata": {},
     "output_type": "display_data"
    }
   ],
   "source": [
    "alphas = [0.1, 0.06, 0.03, 0.01, 0.008, 0.004, 0.001]\n",
    "N = 10\n",
    "batch = X.shape[0]\n",
    "\n",
    "fig, ax = plt.subplots(1, 2, figsize=(20, 7))\n",
    "ax[0].set_title('Linear regression for N = {}'.format(N))\n",
    "ax[1].set_title('Logistic regression for N = {}'.format(N))\n",
    "    \n",
    "batch = X.shape[0]\n",
    "scaler = MinMaxScaler()\n",
    "X = scaler.fit_transform(X)\n",
    "\n",
    "for alpha in alphas:\n",
    "    clf1 = MySGDClassifier(batch_generator, batch_size=batch, max_epoch=1000,\n",
    "                           alpha=alpha, model_type='lin_reg')\n",
    "    clf2 = MySGDClassifier(batch_generator, batch_size=batch, max_epoch=1000,\n",
    "                           alpha=alpha, model_type='log_reg')\n",
    "    clf1.fit(X, y)\n",
    "    clf2.fit(X, y)\n",
    "    \n",
    "    loss1 = np.array([np.mean(clf1.errors_log['loss'][j * N:(j + 1) * N])\n",
    "                      for j in range(100)])\n",
    "    loss2 = np.array([np.mean(clf2.errors_log['loss'][j * N:(j + 1) * N])\n",
    "                      for j in range(100)])\n",
    "    ax[0].plot(np.arange(0, 1000, 10), loss1,\n",
    "               label=r'$\\alpha$ = {}'.format(alpha))\n",
    "    ax[1].plot(np.arange(0, 1000, 10), loss2,\n",
    "               label=r'$\\alpha$ = {}'.format(alpha))\n",
    "\n",
    "ax[0].legend(loc='upper right')    \n",
    "ax[1].legend(loc='upper right')    \n",
    "\n",
    "plt.show()"
   ]
  },
  {
   "cell_type": "markdown",
   "metadata": {
    "id": "ZfmxiF8SRlzB"
   },
   "source": [
    "Что Вы можете сказать про сходимость метода при различных `alpha`? Какое значение стоит выбирать для лучшей сходимости?"
   ]
  },
  {
   "cell_type": "markdown",
   "metadata": {
    "id": "VKg1ij9hRlzC"
   },
   "source": [
    "Изобразите график среднего значения весов для обеих регрессий в зависимости от коеф. регуляризации С из `np.logspace(3, -3, 10)` "
   ]
  },
  {
   "cell_type": "code",
   "execution_count": 152,
   "metadata": {
    "colab": {
     "base_uri": "https://localhost:8080/",
     "height": 445
    },
    "id": "vLlbHTORRlzC",
    "outputId": "b2c8ebdf-a28a-4cb6-e0cb-4e0692c0239c"
   },
   "outputs": [
    {
     "data": {
      "image/png": "[encoded data removed]",
      "text/plain": [
       "<Figure size 720x504 with 2 Axes>"
      ]
     },
     "metadata": {
      "tags": []
     },
     "output_type": "display_data"
    }
   ],
   "source": [
    "C = np.logspace(3, - 3, 10)\n",
    "batch = 1000\n",
    "\n",
    "fig, ax = plt.subplots(1, 2, figsize=(10, 7))\n",
    "ax[0].set_title('Linear regression')\n",
    "ax[1].set_title('Logistic regression')\n",
    "\n",
    "w1 = []\n",
    "w2 = []\n",
    "for i in C:\n",
    "    clf1 = MySGDClassifier(batch_generator, model_type=\"lin_reg\", C=i,\n",
    "                           batch_size=batch, alpha=0.07)\n",
    "    clf2 = MySGDClassifier(batch_generator, model_type=\"log_reg\", C=i,\n",
    "                           batch_size=batch, alpha=0.07)\n",
    "    clf1.fit(X, y)\n",
    "    clf2.fit(X, y)\n",
    "    w1.append(np.mean(clf1.weights))\n",
    "    w2.append(np.mean(clf2.weights))\n",
    "\n",
    "ax[0].plot(C, w1)\n",
    "ax[1].plot(C, w2)\n",
    "\n",
    "plt.show()"
   ]
  },
  {
   "cell_type": "markdown",
   "metadata": {
    "id": "tBip3j3gRlzH"
   },
   "source": [
    "Довольны ли Вы, насколько сильно уменьшились Ваши веса? "
   ]
  },
  {
   "cell_type": "markdown",
   "metadata": {
    "id": "UDhc51lcRlzI"
   },
   "source": [
    "# Боевое применение (4  балла)\n",
    "\n",
    "**Защита данной части возможна только при преодолении в проекте бейзлайна Handmade baseline.**"
   ]
  },
  {
   "cell_type": "markdown",
   "metadata": {
    "id": "GZZquHlCRlzK"
   },
   "source": [
    "Давайте применим модель на итоговом проекте! Датасет сделаем точно таким же образом, как было показано в project_overview.ipynb\n",
    "\n",
    "Применим обе регрессии, подберем для них параметры и сравним качество. Может быть Вы еще одновременно с решением домашней работы подрастете на лидерборде!"
   ]
  },
  {
   "cell_type": "code",
   "execution_count": 19,
   "metadata": {
    "colab": {
     "base_uri": "https://localhost:8080/"
    },
    "id": "7P7ePENeRlzK",
    "outputId": "4afedbf0-d952-4b50-e57a-dbdf4dfcafe8"
   },
   "outputs": [
    {
     "name": "stdout",
     "output_type": "stream",
     "text": [
      "28026\n"
     ]
    }
   ],
   "source": [
    "doc_to_title = {}\n",
    "with open('docs_titles.tsv') as f:\n",
    "    for num_line, line in enumerate(f):\n",
    "        if num_line == 0:\n",
    "            continue\n",
    "        data = line.strip().split('\\t', 1)\n",
    "        doc_id = int(data[0])\n",
    "        if len(data) == 1:\n",
    "            title = ''\n",
    "        else:\n",
    "            title = data[1]\n",
    "        doc_to_title[doc_id] = title\n",
    "print (len(doc_to_title))\n"
   ]
  },
  {
   "cell_type": "code",
   "execution_count": 20,
   "metadata": {
    "id": "qZJLIOdDRlzO"
   },
   "outputs": [],
   "source": [
    "import pandas as pd\n",
    "train_data = pd.read_csv('train_groups.csv')\n",
    "traingroups_titledata = {}\n",
    "for i in range(len(train_data)):\n",
    "    new_doc = train_data.iloc[i]\n",
    "    doc_group = new_doc['group_id']\n",
    "    doc_id = new_doc['doc_id']\n",
    "    target = new_doc['target']\n",
    "    title = doc_to_title[doc_id]\n",
    "    if doc_group not in traingroups_titledata:\n",
    "        traingroups_titledata[doc_group] = []\n",
    "    traingroups_titledata[doc_group].append((doc_id, title, target))"
   ]
  },
  {
   "cell_type": "code",
   "execution_count": 21,
   "metadata": {
    "colab": {
     "base_uri": "https://localhost:8080/"
    },
    "id": "gWBDNpU0RlzS",
    "outputId": "1538bc91-ccac-496c-cf85-7278fe880ef0"
   },
   "outputs": [
    {
     "name": "stdout",
     "output_type": "stream",
     "text": [
      "(11690, 15) (11690,) (11690,)\n"
     ]
    }
   ],
   "source": [
    "import numpy as np\n",
    "y_train = []\n",
    "X_train = []\n",
    "groups_train = []\n",
    "for new_group in traingroups_titledata:\n",
    "    docs = traingroups_titledata[new_group]\n",
    "    for k, (doc_id, title, target_id) in enumerate(docs):\n",
    "        y_train.append(target_id)\n",
    "        groups_train.append(new_group)\n",
    "        all_dist = []\n",
    "        words = set(title.strip().split())\n",
    "        for j in range(0, len(docs)):\n",
    "            if k == j:\n",
    "                continue\n",
    "            doc_id_j, title_j, target_j = docs[j]\n",
    "            words_j = set(title_j.strip().split())\n",
    "            all_dist.append(len(words.intersection(words_j)))\n",
    "        X_train.append(sorted(all_dist, reverse=True)[0:15]    )\n",
    "X_train = np.array(X_train)\n",
    "y_train = np.array(y_train)\n",
    "groups_train = np.array(groups_train)\n",
    "print (X_train.shape, y_train.shape, groups_train.shape)"
   ]
  },
  {
   "cell_type": "code",
   "execution_count": 22,
   "metadata": {
    "id": "YSVTzU0gRlzl"
   },
   "outputs": [],
   "source": [
    "from sklearn.metrics import roc_auc_score\n",
    "from sklearn.metrics import f1_score\n",
    "from sklearn.preprocessing import StandardScaler\n",
    "from itertools import product\n",
    "from sklearn.model_selection import train_test_split"
   ]
  },
  {
   "cell_type": "markdown",
   "metadata": {
    "id": "mSbJ34rYRlzo"
   },
   "source": [
    "Подберите размер батча для обучения. Линейная модель не должна учиться дольше нескольких минут. \n",
    "\n",
    "Не забывайте использовать скейлер!"
   ]
  },
  {
   "cell_type": "code",
   "execution_count": 27,
   "metadata": {
    "id": "mvgUyHghRlzp"
   },
   "outputs": [],
   "source": [
    "scaler = StandardScaler()\n",
    "X_train_scaled = scaler.fit_transform(X_train)"
   ]
  },
  {
   "cell_type": "code",
   "execution_count": null,
   "metadata": {
    "id": "pWg2v2EiRlzu"
   },
   "outputs": [],
   "source": [
    "batches = [2 ** i for i in range(14)]\n",
    "scores = []"
   ]
  },
  {
   "cell_type": "code",
   "execution_count": null,
   "metadata": {
    "id": "ihXo5Jd_Rlzx"
   },
   "outputs": [],
   "source": [
    "for batch in batches:\n",
    "    clf = MySGDClassifier(batch_generator, batch_size=batch,\n",
    "                          model_type='lin_reg')\n",
    "    Xtrain, Xtest, ytrain, ytest = train_test_split(X_train_scaled,\n",
    "                                                    y_train, test_size=0.25)\n",
    "    clf.fit(Xtrain, ytrain)\n",
    "    ypred = clf.predict(Xtest)\n",
    "    scores.append(roc_auc_score(ytest, ypred))"
   ]
  },
  {
   "cell_type": "code",
   "execution_count": null,
   "metadata": {
    "id": "J8PsGu9oRlzz",
    "outputId": "adfbdeb6-02f1-45d3-b432-01cf8e83db19"
   },
   "outputs": [
    {
     "data": {
      "text/plain": [
       "64"
      ]
     },
     "execution_count": 29,
     "metadata": {
      "tags": []
     },
     "output_type": "execute_result"
    }
   ],
   "source": [
    "batches[np.argmax(scores)]"
   ]
  },
  {
   "cell_type": "code",
   "execution_count": null,
   "metadata": {
    "id": "PcP4cILYRlz4",
    "outputId": "fe3090a2-be96-4a60-db76-5b58a9077c51"
   },
   "outputs": [
    {
     "data": {
      "text/plain": [
       "0.8061171195271399"
      ]
     },
     "execution_count": 30,
     "metadata": {
      "tags": []
     },
     "output_type": "execute_result"
    }
   ],
   "source": [
    "scores[np.argmax(scores)]"
   ]
  },
  {
   "cell_type": "code",
   "execution_count": null,
   "metadata": {
    "id": "kjKLR1UGRlz6"
   },
   "outputs": [],
   "source": [
    "for batch in batches:\n",
    "    clf = MySGDClassifier(batch_generator, batch_size=batch,\n",
    "                          model_type='log_reg')\n",
    "    Xtrain, Xtest, ytrain, ytest = train_test_split(X_train_scaled,\n",
    "                                                    y_train, test_size=0.25)\n",
    "    clf.fit(Xtrain, ytrain)\n",
    "    ypred = clf.predict(Xtest)\n",
    "    scores.append(roc_auc_score(ytest, ypred))"
   ]
  },
  {
   "cell_type": "code",
   "execution_count": null,
   "metadata": {
    "id": "l4HZSE45Rlz-",
    "outputId": "70e4f09f-8b38-44bf-c396-9080e5ee67c8"
   },
   "outputs": [
    {
     "data": {
      "text/plain": [
       "16"
      ]
     },
     "execution_count": 34,
     "metadata": {
      "tags": []
     },
     "output_type": "execute_result"
    }
   ],
   "source": [
    "batches[np.argmax(scores)]"
   ]
  },
  {
   "cell_type": "code",
   "execution_count": null,
   "metadata": {
    "id": "yqJnoBjqRl0A",
    "outputId": "cd87bb76-2344-4dc1-a38f-06af99a98745"
   },
   "outputs": [
    {
     "data": {
      "text/plain": [
       "0.8165021939434308"
      ]
     },
     "execution_count": 35,
     "metadata": {
      "tags": []
     },
     "output_type": "execute_result"
    }
   ],
   "source": [
    "scores[np.argmax(scores)]"
   ]
  },
  {
   "cell_type": "markdown",
   "metadata": {
    "id": "O9JWyu7vRl0F"
   },
   "source": [
    "Разбейте данные на обучение и валидацию. Подберите параметры C, alpha, max_epoch, model_type на валидации (Вы же помните, как правильно в этой задаче делать валидацию?)"
   ]
  },
  {
   "cell_type": "code",
   "execution_count": null,
   "metadata": {
    "id": "O76sKcFaRl0F"
   },
   "outputs": [],
   "source": [
    "grid_params = product(\n",
    "    (1, 2, 3, 4, 5, 6, 7, 8, 9), # C\n",
    "    (0.09, 0.08, 0.07, 0.06, 0.05, 0.04, 0.03, 0.02), # alpha\n",
    "    (60, 70, 80, 90)) # max_epoch"
   ]
  },
  {
   "cell_type": "code",
   "execution_count": null,
   "metadata": {
    "id": "ecQqwOBxRl0I"
   },
   "outputs": [],
   "source": [
    "scores = []\n",
    "models = []"
   ]
  },
  {
   "cell_type": "code",
   "execution_count": null,
   "metadata": {
    "id": "h6EsDP-ZRl0L"
   },
   "outputs": [],
   "source": [
    "for C, alpha, max_epoch in grid_params:\n",
    "    models.append(['lin_reg', C, alpha, max_epoch, 64])\n",
    "    clf = MySGDClassifier(batch_generator, batch_size=64, model_type='lin_reg',\n",
    "                          max_epoch=max_epoch, C=C, alpha=alpha)\n",
    "    Xtrain, Xtest, ytrain, ytest = train_test_split(X_train_scaled,\n",
    "                                                    y_train, test_size=0.25)\n",
    "    clf.fit(Xtrain, ytrain)\n",
    "    ypred = clf.predict(Xtest)\n",
    "    scores.append(roc_auc_score(ytest, ypred))"
   ]
  },
  {
   "cell_type": "code",
   "execution_count": null,
   "metadata": {
    "id": "JDu-lVYqRl0N",
    "outputId": "ea9a4e5c-67ac-4901-b46f-a43d59dcd6b8"
   },
   "outputs": [
    {
     "data": {
      "text/plain": [
       "['lin_reg', 3, 0.02, 80, 64]"
      ]
     },
     "execution_count": 83,
     "metadata": {
      "tags": []
     },
     "output_type": "execute_result"
    }
   ],
   "source": [
    "models[np.argmax(scores)]"
   ]
  },
  {
   "cell_type": "code",
   "execution_count": null,
   "metadata": {
    "id": "K0e8tZsSRl0Q",
    "outputId": "3dc866e7-c19b-4ae2-b702-e8fdbfae2e82"
   },
   "outputs": [
    {
     "data": {
      "text/plain": [
       "0.8295027690689445"
      ]
     },
     "execution_count": 84,
     "metadata": {
      "tags": []
     },
     "output_type": "execute_result"
    }
   ],
   "source": [
    "scores[np.argmax(scores)]"
   ]
  },
  {
   "cell_type": "code",
   "execution_count": null,
   "metadata": {
    "id": "JZeqUBTGRl0S"
   },
   "outputs": [],
   "source": [
    "grid_params = product(\n",
    "    (1000, 100, 10, 1), # C\n",
    "    (0.1, 0.01, 0.001, 0.0001), # alpha\n",
    "    (1, 10, 20, 50, 100)) # max_epoch"
   ]
  },
  {
   "cell_type": "code",
   "execution_count": null,
   "metadata": {
    "id": "Xt2eDIzrRl0V"
   },
   "outputs": [],
   "source": [
    "for C, alpha, max_epoch in grid_params:\n",
    "    models.append(['log_reg', C, alpha, max_epoch, 16])\n",
    "    clf = MySGDClassifier(batch_generator, batch_size=16, model_type='log_reg',\n",
    "                          max_epoch=max_epoch, C=C, alpha=alpha)\n",
    "    Xtrain, Xtest, ytrain, ytest = train_test_split(X_train_scaled,\n",
    "                                                    y_train, test_size=0.25)\n",
    "    clf.fit(Xtrain, ytrain)\n",
    "    ypred = clf.predict(Xtest)\n",
    "    scores.append(roc_auc_score(ytest, ypred))"
   ]
  },
  {
   "cell_type": "code",
   "execution_count": null,
   "metadata": {
    "id": "XnqESHPdRl0Y",
    "outputId": "c131c7e6-1e09-4d4a-f5b9-2de16e13be20"
   },
   "outputs": [
    {
     "data": {
      "text/plain": [
       "['log_reg', 100, 0.005, 100, 16]"
      ]
     },
     "execution_count": 47,
     "metadata": {
      "tags": []
     },
     "output_type": "execute_result"
    }
   ],
   "source": [
    "models[np.argmax(scores)]"
   ]
  },
  {
   "cell_type": "code",
   "execution_count": null,
   "metadata": {
    "id": "PMA5hnarRl0Z",
    "outputId": "3a310b04-bbac-43dc-d644-e8080a4913f6"
   },
   "outputs": [
    {
     "data": {
      "text/plain": [
       "0.8204277668359767"
      ]
     },
     "execution_count": 48,
     "metadata": {
      "tags": []
     },
     "output_type": "execute_result"
    }
   ],
   "source": [
    "scores[np.argmax(scores)]"
   ]
  },
  {
   "cell_type": "markdown",
   "metadata": {
    "id": "hsZLtl0XJbx6"
   },
   "source": [
    "**тут чисто для кегли**"
   ]
  },
  {
   "cell_type": "code",
   "execution_count": 11,
   "metadata": {
    "id": "QTAWJMzuXIoD"
   },
   "outputs": [],
   "source": [
    "from sklearn.preprocessing import MinMaxScaler"
   ]
  },
  {
   "cell_type": "code",
   "execution_count": 102,
   "metadata": {
    "colab": {
     "base_uri": "https://localhost:8080/"
    },
    "id": "x_wTF24gYdYe",
    "outputId": "0bbbf450-aefa-499e-9194-f8576f43e39c"
   },
   "outputs": [
    {
     "data": {
      "text/plain": [
       "array([[0.18181818, 0.21052632, 0.15789474, ..., 0.22222222, 0.11111111,\n",
       "        0.11111111],\n",
       "       [0.36363636, 0.36842105, 0.36842105, ..., 0.22222222, 0.22222222,\n",
       "        0.22222222],\n",
       "       [0.09090909, 0.10526316, 0.10526316, ..., 0.11111111, 0.11111111,\n",
       "        0.11111111],\n",
       "       ...,\n",
       "       [0.        , 0.        , 0.        , ..., 0.        , 0.        ,\n",
       "        0.        ],\n",
       "       [0.27272727, 0.10526316, 0.05263158, ..., 0.11111111, 0.11111111,\n",
       "        0.11111111],\n",
       "       [0.13636364, 0.10526316, 0.10526316, ..., 0.11111111, 0.11111111,\n",
       "        0.11111111]])"
      ]
     },
     "execution_count": 102,
     "metadata": {
      "tags": []
     },
     "output_type": "execute_result"
    }
   ],
   "source": [
    "scaler = MinMaxScaler()\n",
    "X_train_scaled = scaler.fit_transform(X_train)\n",
    "X_train_scaled"
   ]
  },
  {
   "cell_type": "code",
   "execution_count": 105,
   "metadata": {
    "id": "ZUxXy50SSve6"
   },
   "outputs": [],
   "source": [
    "grid_params = product(\n",
    "    (9, 10, 14, 15, 16, 17, 18, 30, 31, 33, 34, 62, 63, 64, 65, 66), # batch\n",
    "    (1, 3, 10, 100), # C\n",
    "    (0.02, 0.005, 0.01, 0.1, 0.001), # alpha\n",
    "    (10, 20, 80, 100)) # max_epoch"
   ]
  },
  {
   "cell_type": "code",
   "execution_count": 103,
   "metadata": {
    "id": "swuKnzTkWoeF"
   },
   "outputs": [],
   "source": [
    "scores = []\n",
    "models = []"
   ]
  },
  {
   "cell_type": "code",
   "execution_count": 92,
   "metadata": {
    "id": "JI4apNHWWp3e"
   },
   "outputs": [],
   "source": [
    "for batch, C, alpha, max_epoch in grid_params:\n",
    "    clf = MySGDClassifier(batch_generator, batch_size=batch,\n",
    "                          model_type='lin_reg', max_epoch=max_epoch, C=C,\n",
    "                          alpha=alpha)\n",
    "    Xtrain, Xtest, ytrain, ytest = train_test_split(X_train_scaled, y_train)\n",
    "    clf.fit(Xtrain, ytrain)\n",
    "    ypred = clf.predict(Xtest)\n",
    "    score = 0\n",
    "    border = None\n",
    "    for th in np.arange(0.0, 1.0, 0.01):\n",
    "      s = f1_score(ytest, ypred > th)\n",
    "      if s > score:\n",
    "        score = s\n",
    "        border = th\n",
    "    models.append(['lin_reg', C, alpha, max_epoch, batch, border]) \n",
    "    scores.append(score)"
   ]
  },
  {
   "cell_type": "code",
   "execution_count": 99,
   "metadata": {
    "id": "wejgwbsoW-h8"
   },
   "outputs": [],
   "source": [
    "ind = np.argpartition(np.asarray(scores), -10)[-10:]"
   ]
  },
  {
   "cell_type": "code",
   "execution_count": 100,
   "metadata": {
    "colab": {
     "base_uri": "https://localhost:8080/"
    },
    "id": "OrypyhG1foIg",
    "outputId": "1b009c25-e8c2-46c5-8d15-94651ff5208a"
   },
   "outputs": [
    {
     "data": {
      "text/plain": [
       "array([0.64364207, 0.64386536, 0.64539007, 0.64627528, 0.65010142,\n",
       "       0.65034593, 0.65146865, 0.65955176, 0.65260938, 0.6507177 ])"
      ]
     },
     "execution_count": 100,
     "metadata": {
      "tags": []
     },
     "output_type": "execute_result"
    }
   ],
   "source": [
    "np.asarray(scores)[ind]"
   ]
  },
  {
   "cell_type": "code",
   "execution_count": 101,
   "metadata": {
    "colab": {
     "base_uri": "https://localhost:8080/"
    },
    "id": "wgDwHYz9d-hT",
    "outputId": "f711f47d-14a4-491d-e315-82168a0c5ac7"
   },
   "outputs": [
    {
     "data": {
      "text/plain": [
       "array([['lin_reg', '1', '0.001', '20', '15', '0.29'],\n",
       "       ['lin_reg', '100', '0.1', '100', '10', '0.26'],\n",
       "       ['lin_reg', '100', '0.1', '10', '66', '0.32'],\n",
       "       ['lin_reg', '100', '0.1', '10', '16', '0.34'],\n",
       "       ['lin_reg', '3', '0.01', '20', '63', '0.29'],\n",
       "       ['lin_reg', '100', '0.02', '10', '66', '0.3'],\n",
       "       ['lin_reg', '3', '0.1', '100', '18', '0.25'],\n",
       "       ['lin_reg', '10', '0.02', '20', '30', '0.3'],\n",
       "       ['lin_reg', '10', '0.001', '80', '34', '0.3'],\n",
       "       ['lin_reg', '10', '0.005', '20', '30', '0.3']], dtype='<U19')"
      ]
     },
     "execution_count": 101,
     "metadata": {
      "tags": []
     },
     "output_type": "execute_result"
    }
   ],
   "source": [
    "np.asarray(models)[ind]"
   ]
  },
  {
   "cell_type": "code",
   "execution_count": 106,
   "metadata": {
    "id": "tTzWOqm8qwLP"
   },
   "outputs": [],
   "source": [
    "for batch, C, alpha, max_epoch in grid_params:\n",
    "    clf = MySGDClassifier(batch_generator, batch_size=batch,\n",
    "                          model_type='log_reg', max_epoch=max_epoch, C=C,\n",
    "                          alpha=alpha)\n",
    "    Xtrain, Xtest, ytrain, ytest = train_test_split(X_train_scaled, y_train)\n",
    "    clf.fit(Xtrain, ytrain)\n",
    "    ypred = clf.predict(Xtest)\n",
    "    score = 0\n",
    "    border = None\n",
    "    for th in np.arange(0.0, 1.0, 0.01):\n",
    "      s = f1_score(ytest, ypred > th)\n",
    "      if s > score:\n",
    "        score = s\n",
    "        border = th\n",
    "    models.append(['log_reg', C, alpha, max_epoch, batch, border]) \n",
    "    scores.append(score)"
   ]
  },
  {
   "cell_type": "code",
   "execution_count": 107,
   "metadata": {
    "colab": {
     "base_uri": "https://localhost:8080/"
    },
    "id": "ZGW-bHnt5CMR",
    "outputId": "ee8057bc-d874-44d4-d2a2-f3b93d980138"
   },
   "outputs": [
    {
     "data": {
      "text/plain": [
       "array([0.64079823, 0.64205128, 0.64308342, 0.64329897, 0.64403067,\n",
       "       0.64468448, 0.64471058, 0.64560295, 0.64683613, 0.64932362])"
      ]
     },
     "execution_count": 107,
     "metadata": {
      "tags": []
     },
     "output_type": "execute_result"
    }
   ],
   "source": [
    "ind = np.argpartition(np.asarray(scores), -10)[-10:]\n",
    "np.asarray(scores)[ind]"
   ]
  },
  {
   "cell_type": "code",
   "execution_count": 108,
   "metadata": {
    "colab": {
     "base_uri": "https://localhost:8080/"
    },
    "id": "JLHL2utw5HLn",
    "outputId": "79490005-7ae6-49ae-b045-b74e06a8e308"
   },
   "outputs": [
    {
     "data": {
      "text/plain": [
       "array([['log_reg', '10', '0.1', '80', '14', '0.33'],\n",
       "       ['log_reg', '10', '0.1', '20', '15', '0.29'],\n",
       "       ['log_reg', '10', '0.01', '20', '17', '0.29'],\n",
       "       ['log_reg', '10', '0.1', '20', '9', '0.29'],\n",
       "       ['log_reg', '100', '0.01', '100', '18', '0.3'],\n",
       "       ['log_reg', '100', '0.01', '10', '15', '0.31'],\n",
       "       ['log_reg', '10', '0.005', '20', '15', '0.28'],\n",
       "       ['log_reg', '10', '0.1', '80', '10', '0.29'],\n",
       "       ['log_reg', '10', '0.01', '100', '15', '0.29'],\n",
       "       ['log_reg', '1', '0.1', '20', '31', '0.28']], dtype='<U19')"
      ]
     },
     "execution_count": 108,
     "metadata": {
      "tags": []
     },
     "output_type": "execute_result"
    }
   ],
   "source": [
    "np.asarray(models)[ind]"
   ]
  },
  {
   "cell_type": "markdown",
   "metadata": {
    "id": "Uz5p72KEHgIT"
   },
   "source": [
    "['log_reg', '100', '0.01', '10', '15', '0.31']  -> 0.61483\n",
    "['log_reg', '100', '0.01', '100', '18', '0.3'] ->  0.61576"
   ]
  },
  {
   "cell_type": "markdown",
   "metadata": {
    "id": "lqY9yvwGJgon"
   },
   "source": [
    "**конец**"
   ]
  },
  {
   "cell_type": "markdown",
   "metadata": {
    "collapsed": true,
    "id": "YWVjYqGiRl0c"
   },
   "source": [
    "Подберите порог линейной модели, по достижении которого, Вы будете относить объект к классу 1. Вспомните, какую метрику мы оптимизируем в соревновании.  Как тогда правильно подобрать порог?"
   ]
  },
  {
   "cell_type": "code",
   "execution_count": null,
   "metadata": {
    "id": "mlkLjK4CRl0d"
   },
   "outputs": [],
   "source": [
    "scores = []\n",
    "thresholds = np.arange(0.0, 1.0, 0.01)"
   ]
  },
  {
   "cell_type": "code",
   "execution_count": null,
   "metadata": {
    "id": "l7Jf2aI8Rl0g"
   },
   "outputs": [],
   "source": [
    "for threshold in thresholds:\n",
    "    clf = MySGDClassifier(batch_generator, batch_size=64, model_type='lin_reg',\n",
    "                          max_epoch=80, C=3, alpha=0.02)\n",
    "    Xtrain, Xtest, ytrain, ytest = train_test_split(X_train_scaled,\n",
    "                                                    y_train, test_size=0.25)\n",
    "    clf.fit(Xtrain, ytrain)\n",
    "    ypred = clf.predict(Xtest)\n",
    "    scores.append(f1_score(ytest, ypred >= threshold))"
   ]
  },
  {
   "cell_type": "code",
   "execution_count": null,
   "metadata": {
    "id": "ev1g3fltRl0j",
    "outputId": "742bfb7a-0d2e-4d5f-f4e9-1f1b52a5b938"
   },
   "outputs": [
    {
     "data": {
      "text/plain": [
       "0.32"
      ]
     },
     "execution_count": 93,
     "metadata": {
      "tags": []
     },
     "output_type": "execute_result"
    }
   ],
   "source": [
    "thresholds[np.argmax(scores)]"
   ]
  },
  {
   "cell_type": "code",
   "execution_count": null,
   "metadata": {
    "id": "kgQx_jHFRl0l"
   },
   "outputs": [],
   "source": [
    "for threshold in thresholds:\n",
    "    clf = MySGDClassifier(batch_generator, batch_size=16, model_type='log_reg',\n",
    "                          max_epoch=100, C=100, alpha=0.005)\n",
    "    Xtrain, Xtest, ytrain, ytest = train_test_split(X_train_scaled,\n",
    "                                                    y_train, test_size=0.25)\n",
    "    clf.fit(Xtrain, ytrain)\n",
    "    ypred = clf.predict(Xtest)\n",
    "    scores.append(f1_score(ytest, ypred >= threshold))"
   ]
  },
  {
   "cell_type": "code",
   "execution_count": null,
   "metadata": {
    "id": "5kwl6CtwRl0n",
    "outputId": "90503c99-ea89-4947-a1b0-60e4168efead"
   },
   "outputs": [
    {
     "data": {
      "text/plain": [
       "0.28"
      ]
     },
     "execution_count": 54,
     "metadata": {
      "tags": []
     },
     "output_type": "execute_result"
    }
   ],
   "source": [
    "thresholds[np.argmax(scores)]"
   ]
  },
  {
   "cell_type": "markdown",
   "metadata": {
    "id": "BGiFLl8SRl0q"
   },
   "source": [
    "С лучшими параметрами на валидации сделайте предсказание на тестовом множестве, отправьте его на проверку на платформу kaggle. Убедитесь, что Вы смогли побить public score первого бейзлайна."
   ]
  },
  {
   "cell_type": "markdown",
   "metadata": {
    "collapsed": true,
    "id": "pKVPcfnhRl0r"
   },
   "source": [
    "** При сдаче домашки Вам необходимо кроме ссылки на ноутбук показать Ваш ник на kaggle, под которым Вы залили решение, которое побило Handmade baseline. **"
   ]
  },
  {
   "cell_type": "code",
   "execution_count": null,
   "metadata": {
    "id": "xGKXvi4bRl0r"
   },
   "outputs": [],
   "source": [
    "test_data = pd.read_csv('test_groups.csv')\n",
    "testgroups_titledata = {}\n",
    "for i in range(len(test_data)):\n",
    "    new_doc = test_data.iloc[i]\n",
    "    doc_group = new_doc['group_id']\n",
    "    doc_id = new_doc['doc_id']\n",
    "    title = doc_to_title[doc_id]\n",
    "    if doc_group not in testgroups_titledata:\n",
    "        testgroups_titledata[doc_group] = []\n",
    "    testgroups_titledata[doc_group].append((doc_id, title))"
   ]
  },
  {
   "cell_type": "code",
   "execution_count": null,
   "metadata": {
    "id": "cFNWTWGtRl0u",
    "outputId": "dae49ce8-b0cd-44e6-939e-982fe29f8c26"
   },
   "outputs": [
    {
     "name": "stdout",
     "output_type": "stream",
     "text": [
      "(16627, 15) (16627,)\n"
     ]
    }
   ],
   "source": [
    "y_test = []\n",
    "X_test = []\n",
    "groups_test = []\n",
    "for new_group in testgroups_titledata:\n",
    "    docs = testgroups_titledata[new_group]\n",
    "    for k, (doc_id, title) in enumerate(docs):\n",
    "        groups_test.append(new_group)\n",
    "        all_dist = []\n",
    "        words = set(title.strip().split())\n",
    "        for j in range(0, len(docs)):\n",
    "            if k == j:\n",
    "                continue\n",
    "            doc_id_j, title_j = docs[j]\n",
    "            words_j = set(title_j.strip().split())\n",
    "            all_dist.append(len(words.intersection(words_j)))\n",
    "        X_test.append(sorted(all_dist, reverse=True)[0:15]    )\n",
    "X_test = np.array(X_test)\n",
    "groups_test = np.array(groups_test)\n",
    "print (X_test.shape, groups_test.shape)"
   ]
  },
  {
   "cell_type": "code",
   "execution_count": null,
   "metadata": {
    "id": "GV45TyFvRl0y"
   },
   "outputs": [],
   "source": [
    "X_test_scaled = scaler.fit_transform(X_test)"
   ]
  },
  {
   "cell_type": "markdown",
   "metadata": {
    "id": "osoKZvLMRl00"
   },
   "source": [
    "**0.61**"
   ]
  },
  {
   "cell_type": "code",
   "execution_count": null,
   "metadata": {
    "id": "BTFMet42Rl00",
    "outputId": "e5caad29-56e9-47ba-ce86-7db839e6ace9"
   },
   "outputs": [
    {
     "data": {
      "text/plain": [
       "MySGDClassifier(C=100, alpha=0.005,\n",
       "                batch_generator=<function batch_generator at 0x7f139dff9820>,\n",
       "                batch_size=16, max_epoch=100, model_type='log_reg')"
      ]
     },
     "execution_count": 62,
     "metadata": {
      "tags": []
     },
     "output_type": "execute_result"
    }
   ],
   "source": [
    "clf2 = MySGDClassifier(batch_generator, batch_size=16, model_type='log_reg',\n",
    "                          max_epoch=100, C=100, alpha=0.005)\n",
    "clf2.fit(X_train_scaled, y_train)"
   ]
  },
  {
   "cell_type": "code",
   "execution_count": null,
   "metadata": {
    "id": "DhWC3qcpRl03"
   },
   "outputs": [],
   "source": [
    "pred2 = np.array(clf2.predict(X_test_scaled) >= 0.28, dtype=int)"
   ]
  },
  {
   "cell_type": "code",
   "execution_count": null,
   "metadata": {
    "id": "uYb6LqqwRl06"
   },
   "outputs": [],
   "source": [
    "test_data[\"target\"] = pd.Series(pred2)\n",
    "with open(\"res2.csv\", \"w\") as f:\n",
    "    f.write(test_data.to_csv(columns=(\"pair_id\", \"target\"), index=False))"
   ]
  },
  {
   "cell_type": "markdown",
   "metadata": {
    "id": "qknaTEAfRl08"
   },
   "source": [
    "**0.60958**"
   ]
  },
  {
   "cell_type": "code",
   "execution_count": null,
   "metadata": {
    "id": "dBUMOravRl09"
   },
   "outputs": [],
   "source": [
    "clf1 = MySGDClassifier(batch_generator, batch_size=64, model_type='lin_reg',\n",
    "                          max_epoch=80, C=3, alpha=0.02)\n",
    "clf1.fit(X_train_scaled, y_train)\n",
    "pred1 = np.array(clf1.predict(X_test_scaled) >= 0.32, dtype=int)\n",
    "test_data[\"target\"] = pd.Series(pred1)\n",
    "with open(\"res1.csv\", \"w\") as f:\n",
    "    f.write(test_data.to_csv(columns=(\"pair_id\", \"target\"), index=False))"
   ]
  },
  {
   "cell_type": "code",
   "execution_count": null,
   "metadata": {
    "id": "mdcSarrrRl0_"
   },
   "outputs": [],
   "source": []
  },
  {
   "cell_type": "code",
   "execution_count": null,
   "metadata": {
    "id": "nnu1DDr1Rl1B"
   },
   "outputs": [],
   "source": []
  },
  {
   "cell_type": "code",
   "execution_count": null,
   "metadata": {
    "id": "zxnZOGy6Rl1D"
   },
   "outputs": [],
   "source": []
  },
  {
   "cell_type": "markdown",
   "metadata": {
    "id": "CbYnPs-JRl1G"
   },
   "source": [
    "# Фидбек (бесценно)"
   ]
  },
  {
   "cell_type": "markdown",
   "metadata": {
    "id": "ev5vKUrZRl1G"
   },
   "source": [
    "* Какие аспекты обучения линейных моделей Вам показались непонятными? Какое место стоит дополнительно объяснить?"
   ]
  },
  {
   "cell_type": "markdown",
   "metadata": {
    "id": "kxe1IQyuRl1G"
   },
   "source": [
    "***Ваше ответ здесь***"
   ]
  },
  {
   "cell_type": "markdown",
   "metadata": {
    "id": "oh-i7szaRl1G"
   },
   "source": [
    "* Здесь Вы можете оставить отзыв о этой домашней работе или о всем курсе.   "
   ]
  },
  {
   "cell_type": "markdown",
   "metadata": {
    "id": "cBaoNQeyRl1H"
   },
   "source": [
    "*** ВАШ ОТЗЫВ ЗДЕСЬ***"
   ]
  },
  {
   "cell_type": "code",
   "execution_count": null,
   "metadata": {
    "collapsed": true,
    "id": "Srr0XiU7Rl1H"
   },
   "outputs": [],
   "source": []
  },
  {
   "cell_type": "code",
   "execution_count": null,
   "metadata": {
    "collapsed": true,
    "id": "J8MFEFzsRl1J"
   },
   "outputs": [],
   "source": []
  }
 ],
 "metadata": {
  "accelerator": "GPU",
  "anaconda-cloud": {},
  "colab": {
   "name": "gorbunova_hw2.ipynb",
   "provenance": [],
   "toc_visible": true
  },
  "kernelspec": {
   "display_name": "Python 3",
   "language": "python",
   "name": "python3"
  },
  "language_info": {
   "codemirror_mode": {
    "name": "ipython",
    "version": 3
   },
   "file_extension": ".py",
   "mimetype": "text/x-python",
   "name": "python",
   "nbconvert_exporter": "python",
   "pygments_lexer": "ipython3",
   "version": "3.8.5"
  },
  "nav_menu": {},
  "toc": {
   "colors": {
    "hover_highlight": "#DAA520",
    "navigate_num": "#000000",
    "navigate_text": "#333333",
    "running_highlight": "#FF0000",
    "selected_highlight": "#FFD700",
    "sidebar_border": "#EEEEEE",
    "wrapper_background": "#FFFFFF"
   },
   "moveMenuLeft": true,
   "nav_menu": {
    "height": "402px",
    "width": "253px"
   },
   "navigate_menu": true,
   "number_sections": false,
   "sideBar": true,
   "threshold": 4,
   "toc_cell": false,
   "toc_section_display": "block",
   "toc_window_display": true,
   "widenNotebook": false
  }
 },
 "nbformat": 4,
 "nbformat_minor": 1
}
