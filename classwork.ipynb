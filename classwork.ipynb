{
  "nbformat": 4,
  "nbformat_minor": 0,
  "metadata": {
    "colab": {
      "name": "Untitled7.ipynb",
      "provenance": []
    },
    "kernelspec": {
      "name": "python3",
      "display_name": "Python 3"
    }
  },
  "cells": [
    {
      "cell_type": "code",
      "metadata": {
        "id": "c5xIqCRNM-KO"
      },
      "source": [
        "def get_threshold(feature, y):\n",
        "    ar = y.dot(y)\n",
        "    br = np.sum(y)\n",
        "    al = 0\n",
        "    bl = 0\n",
        "    nr = len(y)\n",
        "    nl = 0\n",
        "    best_thr = ar - (br ** 2) / nr\n",
        "    ind = np.argsort(feature)\n",
        "    x = feature[ind]\n",
        "    y = y[ind]\n",
        "    index = 0\n",
        "    for i in range(len(y) - 1):\n",
        "        nl += 1\n",
        "        nr -= 1\n",
        "        ar -= (y[i] ** 2)\n",
        "        al += (y[i] ** 2)\n",
        "        br -= y[i]\n",
        "        bl += y[i]\n",
        "        cr = ar - (br ** 2) / nr\n",
        "        cl = al - (bl ** 2) / nl\n",
        "        c = cr + cl\n",
        "        if c < best_thr:\n",
        "          best_thr = c\n",
        "          index = i\n",
        "    err = np.std(y) ** 2 - best_thr\n",
        "    return err, x[index]\n",
        "\n",
        "\n",
        "def train_stump(X, y):\n",
        "    best_f = None\n",
        "    best_thr = None\n",
        "    best_q = -float('inf')\n",
        "    for j in range(X.shape[1]):\n",
        "        f_score, f_thr = get_threshold(X[:, j], y)\n",
        "        if f_score > best_q:\n",
        "            best_q = f_score\n",
        "            best_f = j\n",
        "            best_thr = f_thr\n",
        "    return best_f, best_thr"
      ],
      "execution_count": 34,
      "outputs": []
    },
    {
      "cell_type": "code",
      "metadata": {
        "id": "8-x_FQStOAhd"
      },
      "source": [
        "import numpy as np"
      ],
      "execution_count": 35,
      "outputs": []
    },
    {
      "cell_type": "code",
      "metadata": {
        "id": "iBk-CaY1NCZY"
      },
      "source": [
        "from sklearn.datasets import load_boston\n",
        "X, y = load_boston(return_X_y=True)"
      ],
      "execution_count": 36,
      "outputs": []
    },
    {
      "cell_type": "code",
      "metadata": {
        "colab": {
          "base_uri": "https://localhost:8080/"
        },
        "id": "MS9HsNIQNC5c",
        "outputId": "af6bdbef-d245-495a-cf43-c3e7b52be720"
      },
      "source": [
        "from sklearn.tree import DecisionTreeRegressor\n",
        "from sklearn.metrics import mean_squared_error\n",
        "regressor = DecisionTreeRegressor(random_state=0).fit(X, y)\n",
        "print(mean_squared_error(y, regressor.predict(X)))\n",
        "regressor_stump = DecisionTreeRegressor(random_state=0, max_depth=1).fit(X, y)\n",
        "print(mean_squared_error(y, regressor_stump.predict(X)))"
      ],
      "execution_count": 37,
      "outputs": [
        {
          "output_type": "stream",
          "text": [
            "0.0\n",
            "46.19909167710848\n"
          ],
          "name": "stdout"
        }
      ]
    },
    {
      "cell_type": "code",
      "metadata": {
        "colab": {
          "base_uri": "https://localhost:8080/"
        },
        "id": "zjeq-WeCPMif",
        "outputId": "45abfc2c-a493-4913-ab17-5f9bdc71242c"
      },
      "source": [
        "%%time\n",
        "\n",
        "y_pred = np.zeros(len(y))\n",
        "f, thr = train_stump(X, y)\n",
        "right = X[:, f] > thr\n",
        "left = X[:, f] <= thr\n",
        "y_pred[left] = np.mean(y[left])\n",
        "y_pred[right] = np.mean(y[right])\n",
        "print(mean_squared_error(y, y_pred))"
      ],
      "execution_count": 38,
      "outputs": [
        {
          "output_type": "stream",
          "text": [
            "46.19909167710848\n",
            "CPU times: user 34.4 ms, sys: 0 ns, total: 34.4 ms\n",
            "Wall time: 36.7 ms\n"
          ],
          "name": "stdout"
        }
      ]
    }
  ]
}
